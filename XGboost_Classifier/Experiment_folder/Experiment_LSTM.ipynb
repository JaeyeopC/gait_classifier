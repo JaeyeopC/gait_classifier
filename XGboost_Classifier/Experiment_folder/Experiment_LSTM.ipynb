{
 "cells": [
  {
   "cell_type": "code",
   "execution_count": 1,
   "metadata": {},
   "outputs": [],
   "source": [
    "\n",
    "import pandas as pd\n",
    "import numpy as np\n",
    "import os\n",
    "import matplotlib.pyplot as plt\n"
   ]
  },
  {
   "cell_type": "code",
   "execution_count": 2,
   "metadata": {},
   "outputs": [],
   "source": [
    "# Set display options to show all columns and rows\n",
    "pd.set_option('display.max_columns', None)\n",
    "pd.set_option('display.max_rows', None)\n",
    "pd.set_option('display.width', 1000)  # Set a large width value\n",
    "pd.set_option('display.max_colwidth', None)\n",
    "pd.set_option('display.expand_frame_repr', False)\n",
    "pd.set_option('display.min_rows', 20)  # Show at least 20 rows\n",
    "pd.set_option('display.precision', 3)  # Set decimal precision\n",
    "pd.set_option('display.float_format', lambda x: '%.3f' % x)  # Format floats\n",
    "pd.set_option('display.colheader_justify', 'left')  # Left-align column headers"
   ]
  },
  {
   "cell_type": "markdown",
   "metadata": {},
   "source": [
    "### Reading CSV files and creating a dictionary of dataframes by sensor_id"
   ]
  },
  {
   "cell_type": "markdown",
   "metadata": {},
   "source": [
    "Checking data separately"
   ]
  },
  {
   "cell_type": "code",
   "execution_count": 3,
   "metadata": {},
   "outputs": [],
   "source": [
    "import pandas as pd\n",
    "import os\n",
    "import matplotlib.pyplot as plt"
   ]
  },
  {
   "cell_type": "code",
   "execution_count": 4,
   "metadata": {},
   "outputs": [],
   "source": [
    "\n",
    "# Directory path containing CSV files\n",
    "csv_dir = 'csv_output_with_phases'\n",
    "\n",
    "# Get list of all CSV files in directory\n",
    "csv_files = [f for f in os.listdir(csv_dir) if f.endswith('.csv')]\n",
    "\n",
    "csv_dict_by_sensor_id = {}\n",
    "\n",
    "# Process each CSV file sequentially\n",
    "for csv_file in csv_files:\n",
    "    # Create file path\n",
    "    file_path = os.path.join(csv_dir, csv_file)\n",
    "\n",
    "    file_name = os.path.splitext(os.path.basename(file_path))[0].replace(' ', '_')\n",
    "    \n",
    "    sensor_id = file_name.split('_')[0] + '_' + file_name.split('_')[1] + '_' + file_name.split('_')[2]\n",
    "\n",
    "    # Read CSV file\n",
    "    df = pd.read_csv(file_path)\n",
    "    df['sensor_id'] = sensor_id\n",
    "    \n",
    "    # convert time to datetime \n",
    "    df['time'] = pd.to_datetime(df['time'])\n",
    "    \n",
    "    # Calculate elapsed time in seconds from first timestamp\n",
    "    df['elapsed_time'] = (df['time'] - df['time'].min()).dt.total_seconds()\n",
    "    \n",
    "    # Reorder columns to put sensor_id, time and elapsed_time first\n",
    "    cols = ['sensor_id', 'time', 'elapsed_time'] + [col for col in df.columns if col not in ['sensor_id', 'time', 'elapsed_time']]\n",
    "    df = df[cols]\n",
    "    \n",
    "    # Append dataframe to existing one if sensor_id exists, otherwise create new entry\n",
    "    if sensor_id in csv_dict_by_sensor_id:\n",
    "        csv_dict_by_sensor_id[sensor_id] = pd.concat([csv_dict_by_sensor_id[sensor_id], df[cols]], ignore_index=True) # use new indice\n",
    "    else:\n",
    "        csv_dict_by_sensor_id[sensor_id] = df[cols]\n"
   ]
  },
  {
   "cell_type": "code",
   "execution_count": 6,
   "metadata": {},
   "outputs": [
    {
     "data": {
      "image/png": "[encoded data removed]",
      "text/plain": [
       "<Figure size 640x480 with 1 Axes>"
      ]
     },
     "metadata": {},
     "output_type": "display_data"
    }
   ],
   "source": [
    "sensor_id = list(csv_dict_by_sensor_id.keys())[0]\n",
    "df = csv_dict_by_sensor_id[sensor_id] \n",
    "df.phase.value_counts().plot(kind = 'bar')\n",
    "plt.show()"
   ]
  },
  {
   "cell_type": "code",
   "execution_count": 7,
   "metadata": {},
   "outputs": [],
   "source": [
    "# !pip install torch \n",
    "# !pip install torchvision\n",
    "# !pip install torchaudio\n",
    "# !pip install scikit-learn"
   ]
  },
  {
   "cell_type": "markdown",
   "metadata": {},
   "source": [
    "---"
   ]
  },
  {
   "cell_type": "markdown",
   "metadata": {},
   "source": [
    "## Base LSTM model experiment \n",
    "- Sensor data not normalized \n",
    "- Labels are not encoded "
   ]
  },
  {
   "cell_type": "code",
   "execution_count": 8,
   "metadata": {},
   "outputs": [],
   "source": [
    "import torch\n",
    "import torch.nn as nn\n",
    "import torch.optim as optim\n",
    "from torch.utils.data import DataLoader"
   ]
  },
  {
   "cell_type": "markdown",
   "metadata": {},
   "source": [
    "#### Set up MPS \n",
    "[MPS](https://velog.io/@diduya/PyTorch-맥북-에어-M1칩에서-GPU-사용하기MPS-장치-활용-for-머신러닝-학습)"
   ]
  },
  {
   "cell_type": "code",
   "execution_count": 9,
   "metadata": {},
   "outputs": [],
   "source": [
    "device = torch.device(\"mps\")"
   ]
  },
  {
   "cell_type": "markdown",
   "metadata": {},
   "source": [
    "#### preparing data "
   ]
  },
  {
   "cell_type": "code",
   "execution_count": null,
   "metadata": {},
   "outputs": [],
   "source": [
    "fig, axes = plt.subplots(1, 2, figsize=(12, 6))\n",
    "\n",
    "original_class_names = ['heel strike', 'foot flat', 'heel off', 'toe off']\n",
    "# Plot dataset Y distribution\n",
    "dataset.y_df.value_counts().plot(kind='bar', ax=axes[0])\n",
    "axes[0].set_xticks(range(len(original_class_names)))\n",
    "axes[0].set_xticklabels(original_class_names, rotation=45)\n",
    "axes[0].set_title('Dataset Y Distribution')\n",
    "\n",
    "# Add legend with correct labels\n",
    "handles, _ = axes[0].get_legend_handles_labels()\n",
    "axes[0].legend(handles, [f\"Class {i+1}\" for i in range(len(original_class_names))], title=\"Classes\")\n",
    "\n",
    "lagged_class_names = ['no event', 'heel strike', 'foot flat', 'heel off', 'toe off']\n",
    "# Plot data phase distribution\n",
    "data['phase'].value_counts().plot(kind='bar', ax=axes[1])\n",
    "axes[1].set_xticks(range(len(lagged_class_names)))\n",
    "axes[1].set_xticklabels(lagged_class_names, rotation=45)\n",
    "axes[1].set_title('Data Phase Distribution')\n",
    "\n",
    "# Add legend with correct labels\n",
    "handles, _ = axes[1].get_legend_handles_labels()\n",
    "axes[1].legend(handles, [f\"Phase {i}\" for i in range(len(lagged_class_names))], title=\"Phases\")\n",
    "\n",
    "plt.tight_layout()\n",
    "plt.show()\n"
   ]
  },
  {
   "cell_type": "code",
   "execution_count": 10,
   "metadata": {},
   "outputs": [
    {
     "ename": "KeyError",
     "evalue": "'phase'",
     "output_type": "error",
     "traceback": [
      "\u001b[0;31m---------------------------------------------------------------------------\u001b[0m",
      "\u001b[0;31mKeyError\u001b[0m                                  Traceback (most recent call last)",
      "File \u001b[0;32m~/.pyenv/versions/test-en/lib/python3.10/site-packages/pandas/core/indexes/base.py:3805\u001b[0m, in \u001b[0;36mIndex.get_loc\u001b[0;34m(self, key)\u001b[0m\n\u001b[1;32m   3804\u001b[0m \u001b[38;5;28;01mtry\u001b[39;00m:\n\u001b[0;32m-> 3805\u001b[0m     \u001b[38;5;28;01mreturn\u001b[39;00m \u001b[38;5;28;43mself\u001b[39;49m\u001b[38;5;241;43m.\u001b[39;49m\u001b[43m_engine\u001b[49m\u001b[38;5;241;43m.\u001b[39;49m\u001b[43mget_loc\u001b[49m\u001b[43m(\u001b[49m\u001b[43mcasted_key\u001b[49m\u001b[43m)\u001b[49m\n\u001b[1;32m   3806\u001b[0m \u001b[38;5;28;01mexcept\u001b[39;00m \u001b[38;5;167;01mKeyError\u001b[39;00m \u001b[38;5;28;01mas\u001b[39;00m err:\n",
      "File \u001b[0;32mindex.pyx:167\u001b[0m, in \u001b[0;36mpandas._libs.index.IndexEngine.get_loc\u001b[0;34m()\u001b[0m\n",
      "File \u001b[0;32mindex.pyx:196\u001b[0m, in \u001b[0;36mpandas._libs.index.IndexEngine.get_loc\u001b[0;34m()\u001b[0m\n",
      "File \u001b[0;32mpandas/_libs/hashtable_class_helper.pxi:7081\u001b[0m, in \u001b[0;36mpandas._libs.hashtable.PyObjectHashTable.get_item\u001b[0;34m()\u001b[0m\n",
      "File \u001b[0;32mpandas/_libs/hashtable_class_helper.pxi:7089\u001b[0m, in \u001b[0;36mpandas._libs.hashtable.PyObjectHashTable.get_item\u001b[0;34m()\u001b[0m\n",
      "\u001b[0;31mKeyError\u001b[0m: 'phase'",
      "\nThe above exception was the direct cause of the following exception:\n",
      "\u001b[0;31mKeyError\u001b[0m                                  Traceback (most recent call last)",
      "Cell \u001b[0;32mIn[10], line 2\u001b[0m\n\u001b[1;32m      1\u001b[0m data_list \u001b[38;5;241m=\u001b[39m [ df[[\u001b[38;5;124m'\u001b[39m\u001b[38;5;124mgyroscope_x\u001b[39m\u001b[38;5;124m'\u001b[39m, \u001b[38;5;124m'\u001b[39m\u001b[38;5;124mgyroscope_y\u001b[39m\u001b[38;5;124m'\u001b[39m, \u001b[38;5;124m'\u001b[39m\u001b[38;5;124mgyroscope_z\u001b[39m\u001b[38;5;124m'\u001b[39m, \u001b[38;5;124m'\u001b[39m\u001b[38;5;124maccelerometer_x\u001b[39m\u001b[38;5;124m'\u001b[39m, \u001b[38;5;124m'\u001b[39m\u001b[38;5;124maccelerometer_y\u001b[39m\u001b[38;5;124m'\u001b[39m, \u001b[38;5;124m'\u001b[39m\u001b[38;5;124maccelerometer_z\u001b[39m\u001b[38;5;124m'\u001b[39m]] \u001b[38;5;28;01mfor\u001b[39;00m df \u001b[38;5;129;01min\u001b[39;00m csv_dict_by_sensor_id\u001b[38;5;241m.\u001b[39mvalues() ]\n\u001b[0;32m----> 2\u001b[0m label_list \u001b[38;5;241m=\u001b[39m [ df[\u001b[38;5;124m'\u001b[39m\u001b[38;5;124mphase\u001b[39m\u001b[38;5;124m'\u001b[39m] \u001b[38;5;28;01mfor\u001b[39;00m df \u001b[38;5;129;01min\u001b[39;00m csv_dict_by_sensor_id\u001b[38;5;241m.\u001b[39mvalues() ]\n",
      "Cell \u001b[0;32mIn[10], line 2\u001b[0m, in \u001b[0;36m<listcomp>\u001b[0;34m(.0)\u001b[0m\n\u001b[1;32m      1\u001b[0m data_list \u001b[38;5;241m=\u001b[39m [ df[[\u001b[38;5;124m'\u001b[39m\u001b[38;5;124mgyroscope_x\u001b[39m\u001b[38;5;124m'\u001b[39m, \u001b[38;5;124m'\u001b[39m\u001b[38;5;124mgyroscope_y\u001b[39m\u001b[38;5;124m'\u001b[39m, \u001b[38;5;124m'\u001b[39m\u001b[38;5;124mgyroscope_z\u001b[39m\u001b[38;5;124m'\u001b[39m, \u001b[38;5;124m'\u001b[39m\u001b[38;5;124maccelerometer_x\u001b[39m\u001b[38;5;124m'\u001b[39m, \u001b[38;5;124m'\u001b[39m\u001b[38;5;124maccelerometer_y\u001b[39m\u001b[38;5;124m'\u001b[39m, \u001b[38;5;124m'\u001b[39m\u001b[38;5;124maccelerometer_z\u001b[39m\u001b[38;5;124m'\u001b[39m]] \u001b[38;5;28;01mfor\u001b[39;00m df \u001b[38;5;129;01min\u001b[39;00m csv_dict_by_sensor_id\u001b[38;5;241m.\u001b[39mvalues() ]\n\u001b[0;32m----> 2\u001b[0m label_list \u001b[38;5;241m=\u001b[39m [ \u001b[43mdf\u001b[49m\u001b[43m[\u001b[49m\u001b[38;5;124;43m'\u001b[39;49m\u001b[38;5;124;43mphase\u001b[39;49m\u001b[38;5;124;43m'\u001b[39;49m\u001b[43m]\u001b[49m \u001b[38;5;28;01mfor\u001b[39;00m df \u001b[38;5;129;01min\u001b[39;00m csv_dict_by_sensor_id\u001b[38;5;241m.\u001b[39mvalues() ]\n",
      "File \u001b[0;32m~/.pyenv/versions/test-en/lib/python3.10/site-packages/pandas/core/frame.py:4102\u001b[0m, in \u001b[0;36mDataFrame.__getitem__\u001b[0;34m(self, key)\u001b[0m\n\u001b[1;32m   4100\u001b[0m \u001b[38;5;28;01mif\u001b[39;00m \u001b[38;5;28mself\u001b[39m\u001b[38;5;241m.\u001b[39mcolumns\u001b[38;5;241m.\u001b[39mnlevels \u001b[38;5;241m>\u001b[39m \u001b[38;5;241m1\u001b[39m:\n\u001b[1;32m   4101\u001b[0m     \u001b[38;5;28;01mreturn\u001b[39;00m \u001b[38;5;28mself\u001b[39m\u001b[38;5;241m.\u001b[39m_getitem_multilevel(key)\n\u001b[0;32m-> 4102\u001b[0m indexer \u001b[38;5;241m=\u001b[39m \u001b[38;5;28;43mself\u001b[39;49m\u001b[38;5;241;43m.\u001b[39;49m\u001b[43mcolumns\u001b[49m\u001b[38;5;241;43m.\u001b[39;49m\u001b[43mget_loc\u001b[49m\u001b[43m(\u001b[49m\u001b[43mkey\u001b[49m\u001b[43m)\u001b[49m\n\u001b[1;32m   4103\u001b[0m \u001b[38;5;28;01mif\u001b[39;00m is_integer(indexer):\n\u001b[1;32m   4104\u001b[0m     indexer \u001b[38;5;241m=\u001b[39m [indexer]\n",
      "File \u001b[0;32m~/.pyenv/versions/test-en/lib/python3.10/site-packages/pandas/core/indexes/base.py:3812\u001b[0m, in \u001b[0;36mIndex.get_loc\u001b[0;34m(self, key)\u001b[0m\n\u001b[1;32m   3807\u001b[0m     \u001b[38;5;28;01mif\u001b[39;00m \u001b[38;5;28misinstance\u001b[39m(casted_key, \u001b[38;5;28mslice\u001b[39m) \u001b[38;5;129;01mor\u001b[39;00m (\n\u001b[1;32m   3808\u001b[0m         \u001b[38;5;28misinstance\u001b[39m(casted_key, abc\u001b[38;5;241m.\u001b[39mIterable)\n\u001b[1;32m   3809\u001b[0m         \u001b[38;5;129;01mand\u001b[39;00m \u001b[38;5;28many\u001b[39m(\u001b[38;5;28misinstance\u001b[39m(x, \u001b[38;5;28mslice\u001b[39m) \u001b[38;5;28;01mfor\u001b[39;00m x \u001b[38;5;129;01min\u001b[39;00m casted_key)\n\u001b[1;32m   3810\u001b[0m     ):\n\u001b[1;32m   3811\u001b[0m         \u001b[38;5;28;01mraise\u001b[39;00m InvalidIndexError(key)\n\u001b[0;32m-> 3812\u001b[0m     \u001b[38;5;28;01mraise\u001b[39;00m \u001b[38;5;167;01mKeyError\u001b[39;00m(key) \u001b[38;5;28;01mfrom\u001b[39;00m \u001b[38;5;21;01merr\u001b[39;00m\n\u001b[1;32m   3813\u001b[0m \u001b[38;5;28;01mexcept\u001b[39;00m \u001b[38;5;167;01mTypeError\u001b[39;00m:\n\u001b[1;32m   3814\u001b[0m     \u001b[38;5;66;03m# If we have a listlike key, _check_indexing_error will raise\u001b[39;00m\n\u001b[1;32m   3815\u001b[0m     \u001b[38;5;66;03m#  InvalidIndexError. Otherwise we fall through and re-raise\u001b[39;00m\n\u001b[1;32m   3816\u001b[0m     \u001b[38;5;66;03m#  the TypeError.\u001b[39;00m\n\u001b[1;32m   3817\u001b[0m     \u001b[38;5;28mself\u001b[39m\u001b[38;5;241m.\u001b[39m_check_indexing_error(key)\n",
      "\u001b[0;31mKeyError\u001b[0m: 'phase'"
     ]
    }
   ],
   "source": [
    "data_list = [ df[['gyroscope_x', 'gyroscope_y', 'gyroscope_z', 'accelerometer_x', 'accelerometer_y', 'accelerometer_z']] for df in csv_dict_by_sensor_id.values() ]\n",
    "label_list = [ df['phase'] for df in csv_dict_by_sensor_id.values() ]"
   ]
  },
  {
   "cell_type": "code",
   "execution_count": null,
   "metadata": {},
   "outputs": [],
   "source": [
    "print(\"First 5 rows of features from first sensor:\")\n",
    "print(data_list[0].head())\n",
    "print(\"\\nFirst 5 labels from first sensor:\")\n",
    "print(label_list[0].head())\n",
    "print(\"\\nNumber of sensors (feature sequences):\", len(data_list))\n",
    "print(\"Number of sensors (label sequences):\", len(label_list))\n"
   ]
  },
  {
   "cell_type": "markdown",
   "metadata": {},
   "source": [
    "#### Creating windowed data set"
   ]
  },
  {
   "cell_type": "code",
   "execution_count": null,
   "metadata": {},
   "outputs": [],
   "source": [
    "def create_sliding_windows(data, labels, window_size):\n",
    "    windowed_data = []\n",
    "    windowed_labels = []\n",
    "    for start in range(0, len(data) - window_size + 1):\n",
    "        window = torch.tensor(data[start:start + window_size].values, dtype=torch.float32)\n",
    "        windowed_data.append(window)\n",
    "        windowed_labels.append(labels.iloc[start + window_size - 1])\n",
    "    return torch.stack(windowed_data), torch.tensor(windowed_labels)\n",
    "\n",
    "data_sets = [] \n",
    "window_size = 5 # 50~ Experiment required \n",
    "for i in range(len(data_list)):\n",
    "    windows, win_labels = create_sliding_windows(data_list[i], label_list[i], window_size)\n",
    "    data_sets.append((windows, win_labels))\n",
    "\n",
    "data_sets"
   ]
  },
  {
   "cell_type": "markdown",
   "metadata": {},
   "source": [
    "#### Define a simple LSTM model"
   ]
  },
  {
   "cell_type": "code",
   "execution_count": 106,
   "metadata": {},
   "outputs": [],
   "source": [
    "class GaitLSTM(nn.Module):\n",
    "    def __init__(self, input_size, hidden_size, num_layers, output_size):\n",
    "        super(GaitLSTM, self).__init__()\n",
    "        self.lstm = nn.LSTM(input_size, hidden_size, num_layers, batch_first=True)\n",
    "        self.fc = nn.Linear(hidden_size, output_size)\n",
    "\n",
    "    def forward(self, x):\n",
    "        out, _ = self.lstm(x)\n",
    "        out = out[:, -1, :]\n",
    "        out = self.fc(out)\n",
    "        return out\n"
   ]
  },
  {
   "cell_type": "markdown",
   "metadata": {},
   "source": [
    "#### Set up training parameters"
   ]
  },
  {
   "cell_type": "code",
   "execution_count": 126,
   "metadata": {},
   "outputs": [],
   "source": [
    "input_size = 6  # feature size\n",
    "hidden_size = 32\n",
    "num_layers = 1\n",
    "output_size = 5  # number of events\n",
    "\n",
    "model = GaitLSTM(input_size, hidden_size, num_layers, output_size)\n",
    "criterion = nn.CrossEntropyLoss()\n",
    "SGD_optimizer = optim.SGD(model.parameters(), lr=0.001) #adam \n",
    "\n",
    "epochs = 8\n",
    "batch_size = 30"
   ]
  },
  {
   "cell_type": "markdown",
   "metadata": {},
   "source": [
    "#### Train model"
   ]
  },
  {
   "cell_type": "code",
   "execution_count": null,
   "metadata": {},
   "outputs": [],
   "source": [
    "# Check if MPS is available, otherwise use CPU\n",
    "device = torch.device(\"mps\" if torch.backends.mps.is_available() else \"cpu\")\n",
    "\n",
    "# Move model and criterion to device before training loop\n",
    "model.to(device)\n",
    "criterion.to(device)\n",
    "\n",
    "train_loss_history = [] # loss\n",
    "train_acc_history = [] # accuracy\n",
    "\n",
    "for epoch in range(epochs):\n",
    "    model.train()\n",
    "    running_loss = 0.0\n",
    "    correct = 0\n",
    "    total = 0\n",
    "\n",
    "    for idx, (windows, win_labels) in enumerate(data_sets):\n",
    "        # Create dataset and dataloader\n",
    "        dataset = torch.utils.data.TensorDataset(\n",
    "            windows.to(device), \n",
    "            win_labels.to(device)\n",
    "        )\n",
    "        \n",
    "        data_loader = DataLoader(\n",
    "            dataset=dataset,\n",
    "            batch_size=batch_size,\n",
    "            shuffle=False,\n",
    "            num_workers = os.cpu_count() if not torch.backends.mps.is_available() else 0   # Set to 0 when using MPS\n",
    "        )\n",
    "        \n",
    "        for batch_idx, (inputs, labels) in enumerate(data_loader):\n",
    "            SGD_optimizer.zero_grad()\n",
    "            \n",
    "            outputs = model(inputs)  # inputs already on device from dataset\n",
    "            loss = criterion(outputs, labels)  # labels already on device from dataset\n",
    "            loss.backward()\n",
    "            \n",
    "            SGD_optimizer.step()\n",
    "\n",
    "            running_loss += loss.item()\n",
    "            _, predicted = torch.max(outputs, 1)\n",
    "            correct += (predicted == labels).sum().item()\n",
    "            total += labels.size(0)\n",
    "\n",
    "        if idx % 10 == 9: # print every 100 batches\n",
    "            avg_loss = running_loss / 100\n",
    "            accuracy = correct / total\n",
    "            print(f\"[Epoch {epoch+1}, Iteration {idx+1}] loss: {avg_loss:.3f} acc: {accuracy:.2%}\")\n",
    "            train_loss_history.append(avg_loss)\n",
    "            train_acc_history.append(accuracy)\n",
    "            running_loss = 0.0\n",
    "            correct = 0\n",
    "            total = 0"
   ]
  },
  {
   "cell_type": "code",
   "execution_count": null,
   "metadata": {},
   "outputs": [],
   "source": [
    "with torch.no_grad():\n",
    "    model.eval()\n",
    "    test_loss = 0.0\n",
    "    test_correct = 0\n",
    "    test_total = 0\n",
    "\n",
    "    for idx, (windows, win_labels) in enumerate(data_sets):\n",
    "        dataset = torch.utils.data.TensorDataset(\n",
    "            windows.to(device), \n",
    "            win_labels.to(device)\n",
    "        )\n",
    "\n",
    "        data_loader = torch.utils.data.DataLoader(\n",
    "            dataset=dataset,\n",
    "            batch_size=batch_size,\n",
    "            shuffle=False,\n",
    "            num_workers = os.cpu_count() if not torch.backends.mps.is_available() else 0   # Set to 0 when using MPS\n",
    "        )\n",
    "        \n",
    "        for batch_idx, (inputs, labels) in enumerate(data_loader):\n",
    "            outputs = model(inputs)  # inputs already on device from dataset\n",
    "            loss = criterion(outputs, labels)  # labels already on device from dataset\n",
    "            test_loss += loss.item()\n",
    "            _, predicted = torch.max(outputs, 1)\n",
    "            test_correct += (predicted == labels).sum().item()\n",
    "            test_total += labels.size(0)\n",
    "\n",
    "        if idx % 10 == 9:  # print every 10 batches\n",
    "            avg_test_loss = test_loss / test_total\n",
    "            test_accuracy = test_correct / test_total\n",
    "            print(f\"[Test Batch {idx+1}] loss: {avg_test_loss:.3f} acc: {test_accuracy:.2%}\")"
   ]
  },
  {
   "cell_type": "code",
   "execution_count": null,
   "metadata": {},
   "outputs": [],
   "source": []
  }
 ],
 "metadata": {
  "kernelspec": {
   "display_name": "test-en",
   "language": "python",
   "name": "python3"
  },
  "language_info": {
   "codemirror_mode": {
    "name": "ipython",
    "version": 3
   },
   "file_extension": ".py",
   "mimetype": "text/x-python",
   "name": "python",
   "nbconvert_exporter": "python",
   "pygments_lexer": "ipython3",
   "version": "3.10.12"
  }
 },
 "nbformat": 4,
 "nbformat_minor": 2
}
